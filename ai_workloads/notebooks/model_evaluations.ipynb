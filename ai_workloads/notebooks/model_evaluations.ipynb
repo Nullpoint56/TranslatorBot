{
 "cells": [
  {
   "metadata": {},
   "cell_type": "markdown",
   "source": "# MarianMT Big model testing",
   "id": "48ef009dcafa915"
  },
  {
   "metadata": {
    "collapsed": true,
    "ExecuteTime": {
     "end_time": "2025-08-28T21:27:54.752930Z",
     "start_time": "2025-08-28T21:27:50.162864Z"
    }
   },
   "cell_type": "code",
   "outputs": [
    {
     "name": "stdout",
     "output_type": "stream",
     "text": [
      "Requirement already satisfied: transformers in e:\\programming\\python_projects\\translator_bot\\ai_workloads\\.venv\\lib\\site-packages (4.53.3)\n",
      "Requirement already satisfied: accelerate in e:\\programming\\python_projects\\translator_bot\\ai_workloads\\.venv\\lib\\site-packages (1.10.1)\n",
      "Requirement already satisfied: bitsandbytes in e:\\programming\\python_projects\\translator_bot\\ai_workloads\\.venv\\lib\\site-packages (0.47.0)\n",
      "Requirement already satisfied: sentencepiece in e:\\programming\\python_projects\\translator_bot\\ai_workloads\\.venv\\lib\\site-packages (0.2.1)\n",
      "Collecting nltk\n",
      "  Downloading nltk-3.9.1-py3-none-any.whl.metadata (2.9 kB)\n",
      "Requirement already satisfied: filelock in e:\\programming\\python_projects\\translator_bot\\ai_workloads\\.venv\\lib\\site-packages (from transformers) (3.19.1)\n",
      "Requirement already satisfied: huggingface-hub<1.0,>=0.30.0 in e:\\programming\\python_projects\\translator_bot\\ai_workloads\\.venv\\lib\\site-packages (from transformers) (0.34.4)\n",
      "Requirement already satisfied: numpy>=1.17 in e:\\programming\\python_projects\\translator_bot\\ai_workloads\\.venv\\lib\\site-packages (from transformers) (2.3.2)\n",
      "Requirement already satisfied: packaging>=20.0 in e:\\programming\\python_projects\\translator_bot\\ai_workloads\\.venv\\lib\\site-packages (from transformers) (25.0)\n",
      "Requirement already satisfied: pyyaml>=5.1 in e:\\programming\\python_projects\\translator_bot\\ai_workloads\\.venv\\lib\\site-packages (from transformers) (6.0.2)\n",
      "Requirement already satisfied: regex!=2019.12.17 in e:\\programming\\python_projects\\translator_bot\\ai_workloads\\.venv\\lib\\site-packages (from transformers) (2025.7.34)\n",
      "Requirement already satisfied: requests in e:\\programming\\python_projects\\translator_bot\\ai_workloads\\.venv\\lib\\site-packages (from transformers) (2.32.5)\n",
      "Requirement already satisfied: tokenizers<0.22,>=0.21 in e:\\programming\\python_projects\\translator_bot\\ai_workloads\\.venv\\lib\\site-packages (from transformers) (0.21.4)\n",
      "Requirement already satisfied: safetensors>=0.4.3 in e:\\programming\\python_projects\\translator_bot\\ai_workloads\\.venv\\lib\\site-packages (from transformers) (0.6.2)\n",
      "Requirement already satisfied: tqdm>=4.27 in e:\\programming\\python_projects\\translator_bot\\ai_workloads\\.venv\\lib\\site-packages (from transformers) (4.67.1)\n",
      "Requirement already satisfied: fsspec>=2023.5.0 in e:\\programming\\python_projects\\translator_bot\\ai_workloads\\.venv\\lib\\site-packages (from huggingface-hub<1.0,>=0.30.0->transformers) (2025.3.0)\n",
      "Requirement already satisfied: typing-extensions>=3.7.4.3 in e:\\programming\\python_projects\\translator_bot\\ai_workloads\\.venv\\lib\\site-packages (from huggingface-hub<1.0,>=0.30.0->transformers) (4.15.0)\n",
      "Requirement already satisfied: psutil in e:\\programming\\python_projects\\translator_bot\\ai_workloads\\.venv\\lib\\site-packages (from accelerate) (7.0.0)\n",
      "Requirement already satisfied: torch>=2.0.0 in e:\\programming\\python_projects\\translator_bot\\ai_workloads\\.venv\\lib\\site-packages (from accelerate) (2.8.0)\n",
      "Requirement already satisfied: sympy>=1.13.3 in e:\\programming\\python_projects\\translator_bot\\ai_workloads\\.venv\\lib\\site-packages (from torch>=2.0.0->accelerate) (1.14.0)\n",
      "Requirement already satisfied: networkx in e:\\programming\\python_projects\\translator_bot\\ai_workloads\\.venv\\lib\\site-packages (from torch>=2.0.0->accelerate) (3.5)\n",
      "Requirement already satisfied: jinja2 in e:\\programming\\python_projects\\translator_bot\\ai_workloads\\.venv\\lib\\site-packages (from torch>=2.0.0->accelerate) (3.1.6)\n",
      "Requirement already satisfied: click in e:\\programming\\python_projects\\translator_bot\\ai_workloads\\.venv\\lib\\site-packages (from nltk) (8.2.1)\n",
      "Requirement already satisfied: joblib in e:\\programming\\python_projects\\translator_bot\\ai_workloads\\.venv\\lib\\site-packages (from nltk) (1.5.2)\n",
      "Requirement already satisfied: mpmath<1.4,>=1.1.0 in e:\\programming\\python_projects\\translator_bot\\ai_workloads\\.venv\\lib\\site-packages (from sympy>=1.13.3->torch>=2.0.0->accelerate) (1.3.0)\n",
      "Requirement already satisfied: colorama in e:\\programming\\python_projects\\translator_bot\\ai_workloads\\.venv\\lib\\site-packages (from tqdm>=4.27->transformers) (0.4.6)\n",
      "Requirement already satisfied: MarkupSafe>=2.0 in e:\\programming\\python_projects\\translator_bot\\ai_workloads\\.venv\\lib\\site-packages (from jinja2->torch>=2.0.0->accelerate) (3.0.2)\n",
      "Requirement already satisfied: charset_normalizer<4,>=2 in e:\\programming\\python_projects\\translator_bot\\ai_workloads\\.venv\\lib\\site-packages (from requests->transformers) (3.4.3)\n",
      "Requirement already satisfied: idna<4,>=2.5 in e:\\programming\\python_projects\\translator_bot\\ai_workloads\\.venv\\lib\\site-packages (from requests->transformers) (3.10)\n",
      "Requirement already satisfied: urllib3<3,>=1.21.1 in e:\\programming\\python_projects\\translator_bot\\ai_workloads\\.venv\\lib\\site-packages (from requests->transformers) (2.5.0)\n",
      "Requirement already satisfied: certifi>=2017.4.17 in e:\\programming\\python_projects\\translator_bot\\ai_workloads\\.venv\\lib\\site-packages (from requests->transformers) (2025.8.3)\n",
      "Downloading nltk-3.9.1-py3-none-any.whl (1.5 MB)\n",
      "   ---------------------------------------- 0.0/1.5 MB ? eta -:--:--\n",
      "   ---------------------------------------- 1.5/1.5 MB 27.0 MB/s eta 0:00:00\n",
      "Installing collected packages: nltk\n",
      "Successfully installed nltk-3.9.1\n"
     ]
    },
    {
     "name": "stderr",
     "output_type": "stream",
     "text": [
      "\n",
      "[notice] A new release of pip is available: 25.1.1 -> 25.2\n",
      "[notice] To update, run: python.exe -m pip install --upgrade pip\n"
     ]
    }
   ],
   "execution_count": 11,
   "source": "!pip install transformers accelerate bitsandbytes sentencepiece nltk",
   "id": "cbf6cc1697dd8baa"
  },
  {
   "metadata": {
    "ExecuteTime": {
     "end_time": "2025-08-28T22:30:33.799685Z",
     "start_time": "2025-08-28T22:30:33.796537Z"
    }
   },
   "cell_type": "code",
   "source": [
    "hun_text = \"Az biztos hogy aki feltalálta/megtalálta már alkalmazta is valamire. Méretre pedig szerintem olyan 85cm körüli, vagy kisebb.\"\n",
    "en_text = \"For sure, whoever invented it has already applied it to something. As for it's size, I think it is around 85cm, or smaller.\""
   ],
   "id": "4bf8e715863304c6",
   "outputs": [],
   "execution_count": 5
  },
  {
   "metadata": {
    "ExecuteTime": {
     "end_time": "2025-08-28T22:30:44.925091Z",
     "start_time": "2025-08-28T22:30:40.991797Z"
    }
   },
   "cell_type": "code",
   "source": [
    "from transformers import pipeline\n",
    "en_hu_pipe = pipeline(\"translation\", model=\"Helsinki-NLP/opus-mt-tc-big-en-hu\")"
   ],
   "id": "b6f0c4c61d62528f",
   "outputs": [
    {
     "name": "stderr",
     "output_type": "stream",
     "text": [
      "Device set to use cpu\n"
     ]
    }
   ],
   "execution_count": 6
  },
  {
   "metadata": {
    "ExecuteTime": {
     "end_time": "2025-08-28T22:31:05.796531Z",
     "start_time": "2025-08-28T22:31:02.686238Z"
    }
   },
   "cell_type": "code",
   "source": [
    "from transformers import pipeline\n",
    "hu_en_pipe = pipeline(\"translation\", model=\"Helsinki-NLP/opus-mt-tc-big-hu-en\")"
   ],
   "id": "795e65d8f14bc2df",
   "outputs": [
    {
     "name": "stderr",
     "output_type": "stream",
     "text": [
      "Device set to use cpu\n"
     ]
    }
   ],
   "execution_count": 8
  },
  {
   "metadata": {
    "ExecuteTime": {
     "end_time": "2025-08-28T22:30:46.056715Z",
     "start_time": "2025-08-28T22:30:44.956815Z"
    }
   },
   "cell_type": "code",
   "source": "print(en_hu_pipe(en_text))",
   "id": "72621df348f38447",
   "outputs": [
    {
     "name": "stdout",
     "output_type": "stream",
     "text": [
      "[{'translation_text': 'Persze, aki feltalálta, már alkalmazta valamire. Ami a méretét illeti, azt hiszem, 85 cm körül van, vagy kisebb.'}]\n"
     ]
    }
   ],
   "execution_count": 7
  },
  {
   "metadata": {
    "ExecuteTime": {
     "end_time": "2025-08-28T22:31:07.950972Z",
     "start_time": "2025-08-28T22:31:06.777032Z"
    }
   },
   "cell_type": "code",
   "source": "print(hu_en_pipe(hun_text))",
   "id": "ceb3385b477fa630",
   "outputs": [
    {
     "name": "stdout",
     "output_type": "stream",
     "text": [
      "[{'translation_text': \"I'm sure the person who invented it has already applied it to something, and I think it's about 85cm or less in size.\"}]\n"
     ]
    }
   ],
   "execution_count": 9
  }
 ],
 "metadata": {
  "kernelspec": {
   "display_name": "Python 3",
   "language": "python",
   "name": "python3"
  },
  "language_info": {
   "codemirror_mode": {
    "name": "ipython",
    "version": 2
   },
   "file_extension": ".py",
   "mimetype": "text/x-python",
   "name": "python",
   "nbconvert_exporter": "python",
   "pygments_lexer": "ipython2",
   "version": "2.7.6"
  }
 },
 "nbformat": 4,
 "nbformat_minor": 5
}
